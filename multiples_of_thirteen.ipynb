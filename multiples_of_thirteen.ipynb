{
 "cells": [
  {
   "cell_type": "markdown",
   "id": "35ff99a1",
   "metadata": {},
   "source": [
    "Illustrate a trivial model which is passed a vector of known multiples of 13, \n",
    "and check whether inbound values match known values.\n",
    "\n",
    "This principally shows the indexing mechanism at work, with 'cumsum' conv layer.\n",
    "\n",
    "It is worth noting that a regular dense model is not easily able to perform this task with supervised learning. If a model is trained to do this, it requires learnable weights."
   ]
  },
  {
   "cell_type": "code",
   "execution_count": 49,
   "id": "cf318f26",
   "metadata": {},
   "outputs": [],
   "source": [
    "import tensorflow as tf\n",
    "import tensorflow.keras as keras\n",
    "from keras import layers\n",
    "from keras.models import Sequential\n",
    "import numpy as np\n",
    "import matplotlib.pyplot as plt\n",
    "import seaborn as sns"
   ]
  },
  {
   "cell_type": "code",
   "execution_count": 50,
   "id": "8fb878d9",
   "metadata": {},
   "outputs": [
    {
     "name": "stdout",
     "output_type": "stream",
     "text": [
      "[ True False False False False False False False False False False False\n",
      " False  True False False False False False False False False False False\n",
      " False False]\n"
     ]
    }
   ],
   "source": [
    "testRange = 256*13\n",
    "XAll = np.arange(testRange)\n",
    "YAll = np.mod(XAll , 13)==0\n",
    "print(YAll[:26])\n"
   ]
  },
  {
   "cell_type": "code",
   "execution_count": 51,
   "id": "003d2eb3",
   "metadata": {},
   "outputs": [
    {
     "data": {
      "text/plain": [
       "(3328, 1, 1, 1)"
      ]
     },
     "execution_count": 51,
     "metadata": {},
     "output_type": "execute_result"
    }
   ],
   "source": [
    "XAll = XAll[:, np.newaxis, np.newaxis, np.newaxis]\n",
    "np.shape(XAll)"
   ]
  },
  {
   "cell_type": "code",
   "execution_count": 52,
   "id": "4cb20ecb",
   "metadata": {},
   "outputs": [],
   "source": [
    "np.random.seed(123)\n",
    "r = np.random.permutation(testRange)\n",
    "XAll = XAll[r,:,:,:]\n",
    "YAll = YAll[r]\n",
    "splitIdx = 4*testRange // 5\n",
    "XTrain = XAll[:splitIdx]\n",
    "XVal = XAll[splitIdx:]\n",
    "YTrain = YAll[:splitIdx]\n",
    "YVal = YAll[splitIdx:]"
   ]
  },
  {
   "cell_type": "code",
   "execution_count": 53,
   "id": "cab2efc9",
   "metadata": {},
   "outputs": [
    {
     "name": "stdout",
     "output_type": "stream",
     "text": [
      "[[[  0]\n",
      "  [ 13]\n",
      "  [ 26]\n",
      "  [ 39]\n",
      "  [ 52]]\n",
      "\n",
      " [[208]\n",
      "  [221]\n",
      "  [234]\n",
      "  [247]\n",
      "  [260]]\n",
      "\n",
      " [[416]\n",
      "  [429]\n",
      "  [442]\n",
      "  [455]\n",
      "  [468]]\n",
      "\n",
      " [[624]\n",
      "  [637]\n",
      "  [650]\n",
      "  [663]\n",
      "  [676]]\n",
      "\n",
      " [[832]\n",
      "  [845]\n",
      "  [858]\n",
      "  [871]\n",
      "  [884]]]\n"
     ]
    },
    {
     "data": {
      "text/plain": [
       "(16, 16, 1)"
      ]
     },
     "execution_count": 53,
     "metadata": {},
     "output_type": "execute_result"
    }
   ],
   "source": [
    "inputData = np.arange(0, 256*13, 13).reshape(16,16,1)\n",
    "print(inputData[:5,:5])\n",
    "\n",
    "np.shape(inputData)"
   ]
  },
  {
   "cell_type": "code",
   "execution_count": 54,
   "id": "8ddaa4f9",
   "metadata": {},
   "outputs": [],
   "source": [
    "inputs_multiples = keras.Input(shape=(16,16,1))\n",
    "\n"
   ]
  },
  {
   "cell_type": "code",
   "execution_count": 55,
   "id": "7bc11b82",
   "metadata": {},
   "outputs": [
    {
     "data": {
      "text/plain": [
       "<tf.Tensor: shape=(), dtype=float32, numpy=1.0>"
      ]
     },
     "execution_count": 55,
     "metadata": {},
     "output_type": "execute_result"
    }
   ],
   "source": [
    "from keras import backend as K\n",
    "from keras.layers import Layer, Lambda\n",
    "# simpler non-learnable layer, activation only\n",
    "def radbas(n, epsil=1):\n",
    "    n = tf.convert_to_tensor(n, dtype=tf.float32)\n",
    "    epsil = tf.convert_to_tensor(epsil, dtype=tf.float32)\n",
    "    result = keras.ops.exp(-(n*epsil)**2)\n",
    "    return result\n",
    "radbas(0)"
   ]
  },
  {
   "cell_type": "code",
   "execution_count": 56,
   "id": "1609c29a",
   "metadata": {},
   "outputs": [
    {
     "data": {
      "text/html": [
       "<pre style=\"white-space:pre;overflow-x:auto;line-height:normal;font-family:Menlo,'DejaVu Sans Mono',consolas,'Courier New',monospace\"><span style=\"font-weight: bold\">Model: \"functional_4\"</span>\n",
       "</pre>\n"
      ],
      "text/plain": [
       "\u001b[1mModel: \"functional_4\"\u001b[0m\n"
      ]
     },
     "metadata": {},
     "output_type": "display_data"
    },
    {
     "data": {
      "text/html": [
       "<pre style=\"white-space:pre;overflow-x:auto;line-height:normal;font-family:Menlo,'DejaVu Sans Mono',consolas,'Courier New',monospace\">┏━━━━━━━━━━━━━━━━━━━━━┳━━━━━━━━━━━━━━━━━━━┳━━━━━━━━━━━━┳━━━━━━━━━━━━━━━━━━━┓\n",
       "┃<span style=\"font-weight: bold\"> Layer (type)        </span>┃<span style=\"font-weight: bold\"> Output Shape      </span>┃<span style=\"font-weight: bold\">    Param # </span>┃<span style=\"font-weight: bold\"> Connected to      </span>┃\n",
       "┡━━━━━━━━━━━━━━━━━━━━━╇━━━━━━━━━━━━━━━━━━━╇━━━━━━━━━━━━╇━━━━━━━━━━━━━━━━━━━┩\n",
       "│ CNN_in (<span style=\"color: #0087ff; text-decoration-color: #0087ff\">InputLayer</span>) │ (<span style=\"color: #00d7ff; text-decoration-color: #00d7ff\">None</span>, <span style=\"color: #00af00; text-decoration-color: #00af00\">1</span>, <span style=\"color: #00af00; text-decoration-color: #00af00\">1</span>, <span style=\"color: #00af00; text-decoration-color: #00af00\">1</span>)   │          <span style=\"color: #00af00; text-decoration-color: #00af00\">0</span> │ -                 │\n",
       "├─────────────────────┼───────────────────┼────────────┼───────────────────┤\n",
       "│ input_layer_4       │ (<span style=\"color: #00d7ff; text-decoration-color: #00d7ff\">None</span>, <span style=\"color: #00af00; text-decoration-color: #00af00\">16</span>, <span style=\"color: #00af00; text-decoration-color: #00af00\">16</span>, <span style=\"color: #00af00; text-decoration-color: #00af00\">1</span>) │          <span style=\"color: #00af00; text-decoration-color: #00af00\">0</span> │ -                 │\n",
       "│ (<span style=\"color: #0087ff; text-decoration-color: #0087ff\">InputLayer</span>)        │                   │            │                   │\n",
       "├─────────────────────┼───────────────────┼────────────┼───────────────────┤\n",
       "│ lambda_4 (<span style=\"color: #0087ff; text-decoration-color: #0087ff\">Lambda</span>)   │ (<span style=\"color: #00d7ff; text-decoration-color: #00d7ff\">None</span>, <span style=\"color: #00af00; text-decoration-color: #00af00\">16</span>, <span style=\"color: #00af00; text-decoration-color: #00af00\">16</span>, <span style=\"color: #00af00; text-decoration-color: #00af00\">1</span>) │          <span style=\"color: #00af00; text-decoration-color: #00af00\">0</span> │ CNN_in[<span style=\"color: #00af00; text-decoration-color: #00af00\">0</span>][<span style=\"color: #00af00; text-decoration-color: #00af00\">0</span>]      │\n",
       "├─────────────────────┼───────────────────┼────────────┼───────────────────┤\n",
       "│ add_2 (<span style=\"color: #0087ff; text-decoration-color: #0087ff\">Add</span>)         │ (<span style=\"color: #00d7ff; text-decoration-color: #00d7ff\">None</span>, <span style=\"color: #00af00; text-decoration-color: #00af00\">16</span>, <span style=\"color: #00af00; text-decoration-color: #00af00\">16</span>, <span style=\"color: #00af00; text-decoration-color: #00af00\">1</span>) │          <span style=\"color: #00af00; text-decoration-color: #00af00\">0</span> │ input_layer_4[<span style=\"color: #00af00; text-decoration-color: #00af00\">0</span>]… │\n",
       "│                     │                   │            │ lambda_4[<span style=\"color: #00af00; text-decoration-color: #00af00\">0</span>][<span style=\"color: #00af00; text-decoration-color: #00af00\">0</span>]    │\n",
       "├─────────────────────┼───────────────────┼────────────┼───────────────────┤\n",
       "│ lambda_5 (<span style=\"color: #0087ff; text-decoration-color: #0087ff\">Lambda</span>)   │ (<span style=\"color: #00d7ff; text-decoration-color: #00d7ff\">None</span>, <span style=\"color: #00af00; text-decoration-color: #00af00\">16</span>, <span style=\"color: #00af00; text-decoration-color: #00af00\">16</span>, <span style=\"color: #00af00; text-decoration-color: #00af00\">1</span>) │          <span style=\"color: #00af00; text-decoration-color: #00af00\">0</span> │ add_2[<span style=\"color: #00af00; text-decoration-color: #00af00\">0</span>][<span style=\"color: #00af00; text-decoration-color: #00af00\">0</span>]       │\n",
       "├─────────────────────┼───────────────────┼────────────┼───────────────────┤\n",
       "│ max_pooling2d_8     │ (<span style=\"color: #00d7ff; text-decoration-color: #00d7ff\">None</span>, <span style=\"color: #00af00; text-decoration-color: #00af00\">8</span>, <span style=\"color: #00af00; text-decoration-color: #00af00\">8</span>, <span style=\"color: #00af00; text-decoration-color: #00af00\">1</span>)   │          <span style=\"color: #00af00; text-decoration-color: #00af00\">0</span> │ lambda_5[<span style=\"color: #00af00; text-decoration-color: #00af00\">0</span>][<span style=\"color: #00af00; text-decoration-color: #00af00\">0</span>]    │\n",
       "│ (<span style=\"color: #0087ff; text-decoration-color: #0087ff\">MaxPooling2D</span>)      │                   │            │                   │\n",
       "├─────────────────────┼───────────────────┼────────────┼───────────────────┤\n",
       "│ max_pooling2d_9     │ (<span style=\"color: #00d7ff; text-decoration-color: #00d7ff\">None</span>, <span style=\"color: #00af00; text-decoration-color: #00af00\">4</span>, <span style=\"color: #00af00; text-decoration-color: #00af00\">4</span>, <span style=\"color: #00af00; text-decoration-color: #00af00\">1</span>)   │          <span style=\"color: #00af00; text-decoration-color: #00af00\">0</span> │ max_pooling2d_8[<span style=\"color: #00af00; text-decoration-color: #00af00\">…</span> │\n",
       "│ (<span style=\"color: #0087ff; text-decoration-color: #0087ff\">MaxPooling2D</span>)      │                   │            │                   │\n",
       "├─────────────────────┼───────────────────┼────────────┼───────────────────┤\n",
       "│ max_pooling2d_10    │ (<span style=\"color: #00d7ff; text-decoration-color: #00d7ff\">None</span>, <span style=\"color: #00af00; text-decoration-color: #00af00\">2</span>, <span style=\"color: #00af00; text-decoration-color: #00af00\">2</span>, <span style=\"color: #00af00; text-decoration-color: #00af00\">1</span>)   │          <span style=\"color: #00af00; text-decoration-color: #00af00\">0</span> │ max_pooling2d_9[<span style=\"color: #00af00; text-decoration-color: #00af00\">…</span> │\n",
       "│ (<span style=\"color: #0087ff; text-decoration-color: #0087ff\">MaxPooling2D</span>)      │                   │            │                   │\n",
       "├─────────────────────┼───────────────────┼────────────┼───────────────────┤\n",
       "│ max_pooling2d_11    │ (<span style=\"color: #00d7ff; text-decoration-color: #00d7ff\">None</span>, <span style=\"color: #00af00; text-decoration-color: #00af00\">1</span>, <span style=\"color: #00af00; text-decoration-color: #00af00\">1</span>, <span style=\"color: #00af00; text-decoration-color: #00af00\">1</span>)   │          <span style=\"color: #00af00; text-decoration-color: #00af00\">0</span> │ max_pooling2d_10… │\n",
       "│ (<span style=\"color: #0087ff; text-decoration-color: #0087ff\">MaxPooling2D</span>)      │                   │            │                   │\n",
       "├─────────────────────┼───────────────────┼────────────┼───────────────────┤\n",
       "│ output (<span style=\"color: #0087ff; text-decoration-color: #0087ff\">Flatten</span>)    │ (<span style=\"color: #00d7ff; text-decoration-color: #00d7ff\">None</span>, <span style=\"color: #00af00; text-decoration-color: #00af00\">1</span>)         │          <span style=\"color: #00af00; text-decoration-color: #00af00\">0</span> │ max_pooling2d_11… │\n",
       "└─────────────────────┴───────────────────┴────────────┴───────────────────┘\n",
       "</pre>\n"
      ],
      "text/plain": [
       "┏━━━━━━━━━━━━━━━━━━━━━┳━━━━━━━━━━━━━━━━━━━┳━━━━━━━━━━━━┳━━━━━━━━━━━━━━━━━━━┓\n",
       "┃\u001b[1m \u001b[0m\u001b[1mLayer (type)       \u001b[0m\u001b[1m \u001b[0m┃\u001b[1m \u001b[0m\u001b[1mOutput Shape     \u001b[0m\u001b[1m \u001b[0m┃\u001b[1m \u001b[0m\u001b[1m   Param #\u001b[0m\u001b[1m \u001b[0m┃\u001b[1m \u001b[0m\u001b[1mConnected to     \u001b[0m\u001b[1m \u001b[0m┃\n",
       "┡━━━━━━━━━━━━━━━━━━━━━╇━━━━━━━━━━━━━━━━━━━╇━━━━━━━━━━━━╇━━━━━━━━━━━━━━━━━━━┩\n",
       "│ CNN_in (\u001b[38;5;33mInputLayer\u001b[0m) │ (\u001b[38;5;45mNone\u001b[0m, \u001b[38;5;34m1\u001b[0m, \u001b[38;5;34m1\u001b[0m, \u001b[38;5;34m1\u001b[0m)   │          \u001b[38;5;34m0\u001b[0m │ -                 │\n",
       "├─────────────────────┼───────────────────┼────────────┼───────────────────┤\n",
       "│ input_layer_4       │ (\u001b[38;5;45mNone\u001b[0m, \u001b[38;5;34m16\u001b[0m, \u001b[38;5;34m16\u001b[0m, \u001b[38;5;34m1\u001b[0m) │          \u001b[38;5;34m0\u001b[0m │ -                 │\n",
       "│ (\u001b[38;5;33mInputLayer\u001b[0m)        │                   │            │                   │\n",
       "├─────────────────────┼───────────────────┼────────────┼───────────────────┤\n",
       "│ lambda_4 (\u001b[38;5;33mLambda\u001b[0m)   │ (\u001b[38;5;45mNone\u001b[0m, \u001b[38;5;34m16\u001b[0m, \u001b[38;5;34m16\u001b[0m, \u001b[38;5;34m1\u001b[0m) │          \u001b[38;5;34m0\u001b[0m │ CNN_in[\u001b[38;5;34m0\u001b[0m][\u001b[38;5;34m0\u001b[0m]      │\n",
       "├─────────────────────┼───────────────────┼────────────┼───────────────────┤\n",
       "│ add_2 (\u001b[38;5;33mAdd\u001b[0m)         │ (\u001b[38;5;45mNone\u001b[0m, \u001b[38;5;34m16\u001b[0m, \u001b[38;5;34m16\u001b[0m, \u001b[38;5;34m1\u001b[0m) │          \u001b[38;5;34m0\u001b[0m │ input_layer_4[\u001b[38;5;34m0\u001b[0m]… │\n",
       "│                     │                   │            │ lambda_4[\u001b[38;5;34m0\u001b[0m][\u001b[38;5;34m0\u001b[0m]    │\n",
       "├─────────────────────┼───────────────────┼────────────┼───────────────────┤\n",
       "│ lambda_5 (\u001b[38;5;33mLambda\u001b[0m)   │ (\u001b[38;5;45mNone\u001b[0m, \u001b[38;5;34m16\u001b[0m, \u001b[38;5;34m16\u001b[0m, \u001b[38;5;34m1\u001b[0m) │          \u001b[38;5;34m0\u001b[0m │ add_2[\u001b[38;5;34m0\u001b[0m][\u001b[38;5;34m0\u001b[0m]       │\n",
       "├─────────────────────┼───────────────────┼────────────┼───────────────────┤\n",
       "│ max_pooling2d_8     │ (\u001b[38;5;45mNone\u001b[0m, \u001b[38;5;34m8\u001b[0m, \u001b[38;5;34m8\u001b[0m, \u001b[38;5;34m1\u001b[0m)   │          \u001b[38;5;34m0\u001b[0m │ lambda_5[\u001b[38;5;34m0\u001b[0m][\u001b[38;5;34m0\u001b[0m]    │\n",
       "│ (\u001b[38;5;33mMaxPooling2D\u001b[0m)      │                   │            │                   │\n",
       "├─────────────────────┼───────────────────┼────────────┼───────────────────┤\n",
       "│ max_pooling2d_9     │ (\u001b[38;5;45mNone\u001b[0m, \u001b[38;5;34m4\u001b[0m, \u001b[38;5;34m4\u001b[0m, \u001b[38;5;34m1\u001b[0m)   │          \u001b[38;5;34m0\u001b[0m │ max_pooling2d_8[\u001b[38;5;34m…\u001b[0m │\n",
       "│ (\u001b[38;5;33mMaxPooling2D\u001b[0m)      │                   │            │                   │\n",
       "├─────────────────────┼───────────────────┼────────────┼───────────────────┤\n",
       "│ max_pooling2d_10    │ (\u001b[38;5;45mNone\u001b[0m, \u001b[38;5;34m2\u001b[0m, \u001b[38;5;34m2\u001b[0m, \u001b[38;5;34m1\u001b[0m)   │          \u001b[38;5;34m0\u001b[0m │ max_pooling2d_9[\u001b[38;5;34m…\u001b[0m │\n",
       "│ (\u001b[38;5;33mMaxPooling2D\u001b[0m)      │                   │            │                   │\n",
       "├─────────────────────┼───────────────────┼────────────┼───────────────────┤\n",
       "│ max_pooling2d_11    │ (\u001b[38;5;45mNone\u001b[0m, \u001b[38;5;34m1\u001b[0m, \u001b[38;5;34m1\u001b[0m, \u001b[38;5;34m1\u001b[0m)   │          \u001b[38;5;34m0\u001b[0m │ max_pooling2d_10… │\n",
       "│ (\u001b[38;5;33mMaxPooling2D\u001b[0m)      │                   │            │                   │\n",
       "├─────────────────────┼───────────────────┼────────────┼───────────────────┤\n",
       "│ output (\u001b[38;5;33mFlatten\u001b[0m)    │ (\u001b[38;5;45mNone\u001b[0m, \u001b[38;5;34m1\u001b[0m)         │          \u001b[38;5;34m0\u001b[0m │ max_pooling2d_11… │\n",
       "└─────────────────────┴───────────────────┴────────────┴───────────────────┘\n"
      ]
     },
     "metadata": {},
     "output_type": "display_data"
    },
    {
     "data": {
      "text/html": [
       "<pre style=\"white-space:pre;overflow-x:auto;line-height:normal;font-family:Menlo,'DejaVu Sans Mono',consolas,'Courier New',monospace\"><span style=\"font-weight: bold\"> Total params: </span><span style=\"color: #00af00; text-decoration-color: #00af00\">0</span> (0.00 B)\n",
       "</pre>\n"
      ],
      "text/plain": [
       "\u001b[1m Total params: \u001b[0m\u001b[38;5;34m0\u001b[0m (0.00 B)\n"
      ]
     },
     "metadata": {},
     "output_type": "display_data"
    },
    {
     "data": {
      "text/html": [
       "<pre style=\"white-space:pre;overflow-x:auto;line-height:normal;font-family:Menlo,'DejaVu Sans Mono',consolas,'Courier New',monospace\"><span style=\"font-weight: bold\"> Trainable params: </span><span style=\"color: #00af00; text-decoration-color: #00af00\">0</span> (0.00 B)\n",
       "</pre>\n"
      ],
      "text/plain": [
       "\u001b[1m Trainable params: \u001b[0m\u001b[38;5;34m0\u001b[0m (0.00 B)\n"
      ]
     },
     "metadata": {},
     "output_type": "display_data"
    },
    {
     "data": {
      "text/html": [
       "<pre style=\"white-space:pre;overflow-x:auto;line-height:normal;font-family:Menlo,'DejaVu Sans Mono',consolas,'Courier New',monospace\"><span style=\"font-weight: bold\"> Non-trainable params: </span><span style=\"color: #00af00; text-decoration-color: #00af00\">0</span> (0.00 B)\n",
       "</pre>\n"
      ],
      "text/plain": [
       "\u001b[1m Non-trainable params: \u001b[0m\u001b[38;5;34m0\u001b[0m (0.00 B)\n"
      ]
     },
     "metadata": {},
     "output_type": "display_data"
    }
   ],
   "source": [
    "CNN_input = layers.Input(shape=(1, 1, 1),name=\"CNN_in\")\n",
    "# Decoder like layers. Upsample width and height from 1 to 2,4,8,16\n",
    "\n",
    "CNN_layer256 = Lambda(keras.backend.tile, arguments={'n':(1, 16, 16, 1)})(CNN_input)\n",
    "\n",
    "# Combine models\n",
    "mergedOut = layers.Add()([inputs_multiples,CNN_layer256])\n",
    "#x = RBFLayer(1, 10)(mergedOut)\n",
    "x = Lambda(radbas)(mergedOut)\n",
    "# Encoder like layers. Downsample width and height from 16 to 8,4,2,1\n",
    "#x = layers.Conv2D(16, (3, 3), activation=\"relu\", padding=\"same\")(x)\n",
    "x = layers.MaxPooling2D((2, 2), padding=\"same\")(x)\n",
    "#x = layers.Conv2D(16, (3, 3), activation=\"relu\", padding=\"same\")(x)\n",
    "x = layers.MaxPooling2D((2, 2), padding=\"same\")(x)\n",
    "#x = layers.Conv2D(8, (3, 3), activation=\"relu\", padding=\"same\")(x)\n",
    "x = layers.MaxPooling2D((2, 2), padding=\"same\")(x)\n",
    "#x = layers.Conv2D(4, (3, 3), activation=\"relu\", padding=\"same\")(x)\n",
    "x = layers.MaxPooling2D((2, 2), padding=\"same\")(x)\n",
    "#x = layers.Conv2D(1, (1, 1), activation=\"sigmoid\", padding=\"same\")(x)\n",
    "output = layers.Flatten(name=\"output\")(x)\n",
    "\n",
    "# CNN\n",
    "CNN_model = keras.Model(inputs=[inputs_multiples, CNN_input], outputs=output)\n",
    "CNN_model.compile(\n",
    "optimizer=tf.keras.optimizers.Adam(learning_rate=1e-3),\n",
    "loss=tf.keras.losses.BinaryCrossentropy(),\n",
    "metrics=[tf.keras.metrics.BinaryAccuracy(),\n",
    "         tf.keras.metrics.FalseNegatives(),\n",
    "         tf.keras.metrics.FalsePositives()],\n",
    ")\n",
    "CNN_model.summary()"
   ]
  },
  {
   "cell_type": "code",
   "execution_count": 57,
   "id": "f29c5bab",
   "metadata": {},
   "outputs": [
    {
     "name": "stdout",
     "output_type": "stream",
     "text": [
      "(16, 16, 1)\n",
      "(2662, 16, 16, 1)\n",
      "\u001b[1m84/84\u001b[0m \u001b[32m━━━━━━━━━━━━━━━━━━━━\u001b[0m\u001b[37m\u001b[0m \u001b[1m0s\u001b[0m 767us/step - binary_accuracy: 1.0000 - false_negatives_2: 0.0000e+00 - false_positives_2: 0.0000e+00 - loss: 0.0777\n"
     ]
    },
    {
     "data": {
      "text/plain": [
       "<keras.src.callbacks.history.History at 0x2d2bf6b95d0>"
      ]
     },
     "execution_count": 57,
     "metadata": {},
     "output_type": "execute_result"
    }
   ],
   "source": [
    "\n",
    "inputDataBcast = np.tile(inputData, [len(XTrain),1,1,1])\n",
    "print(np.shape(inputData))\n",
    "print(np.shape(inputDataBcast))\n",
    "\n",
    "# note: no training in reality, since no learnable weights!\n",
    "CNN_model.fit([inputDataBcast,-1*XTrain], YTrain)"
   ]
  },
  {
   "cell_type": "code",
   "execution_count": 58,
   "id": "9548b5e8",
   "metadata": {},
   "outputs": [
    {
     "name": "stdout",
     "output_type": "stream",
     "text": [
      "\u001b[1m21/21\u001b[0m \u001b[32m━━━━━━━━━━━━━━━━━━━━\u001b[0m\u001b[37m\u001b[0m \u001b[1m0s\u001b[0m 2ms/step \n",
      "1.0\n"
     ]
    }
   ],
   "source": [
    "inputDataBcast = np.tile(inputData, [len(XVal),1,1,1])\n",
    "p = CNN_model.predict([inputDataBcast,-1*XVal])\n",
    "accu = np.mean(np.squeeze(np.round(p))==YVal)\n",
    "print(accu)"
   ]
  },
  {
   "cell_type": "code",
   "execution_count": 59,
   "id": "c0a8376f",
   "metadata": {},
   "outputs": [
    {
     "data": {
      "image/png": "[encoded data removed]",
      "text/plain": [
       "<Figure size 640x480 with 1 Axes>"
      ]
     },
     "metadata": {},
     "output_type": "display_data"
    }
   ],
   "source": [
    "plt.hist(p)\n",
    "plt.xlabel(\"Confidence Scores\")\n",
    "plt.title(\"Activations when predicting factor 13\")\n",
    "plt.show()"
   ]
  },
  {
   "cell_type": "code",
   "execution_count": 60,
   "id": "27280a13",
   "metadata": {},
   "outputs": [
    {
     "name": "stdout",
     "output_type": "stream",
     "text": [
      "(array([], dtype=int64),)\n",
      "[]\n",
      "[]\n"
     ]
    }
   ],
   "source": [
    "# print out any incorrect results\n",
    "x = np.where(np.squeeze(np.round(p))!=YVal)\n",
    "print(x)\n",
    "print(YVal[np.where(np.squeeze(np.round(p))!=YVal)])\n",
    "print(p[np.where(np.squeeze(np.round(p))!=YVal)])"
   ]
  },
  {
   "cell_type": "markdown",
   "id": "22d5c808",
   "metadata": {},
   "source": [
    "this now seems to work, no learnable layers needed."
   ]
  },
  {
   "cell_type": "markdown",
   "id": "a4899d9e",
   "metadata": {},
   "source": [
    "View layers"
   ]
  },
  {
   "cell_type": "code",
   "execution_count": 61,
   "id": "ac02ba55",
   "metadata": {},
   "outputs": [
    {
     "name": "stdout",
     "output_type": "stream",
     "text": [
      "0 <InputLayer name=CNN_in, built=True>\n",
      "1 <InputLayer name=input_layer_4, built=True>\n",
      "2 <Lambda name=lambda_4, built=True>\n",
      "3 <Add name=add_2, built=True>\n",
      "4 <Lambda name=lambda_5, built=True>\n",
      "5 <MaxPooling2D name=max_pooling2d_8, built=True>\n",
      "6 <MaxPooling2D name=max_pooling2d_9, built=True>\n",
      "7 <MaxPooling2D name=max_pooling2d_10, built=True>\n",
      "8 <MaxPooling2D name=max_pooling2d_11, built=True>\n",
      "9 <Flatten name=output, built=True>\n"
     ]
    }
   ],
   "source": [
    "for i,l in enumerate(CNN_model.layers):\n",
    "    print(i,l)"
   ]
  },
  {
   "cell_type": "code",
   "execution_count": 62,
   "id": "a77b5fc6",
   "metadata": {},
   "outputs": [
    {
     "name": "stdout",
     "output_type": "stream",
     "text": [
      "\u001b[1m21/21\u001b[0m \u001b[32m━━━━━━━━━━━━━━━━━━━━\u001b[0m\u001b[37m\u001b[0m \u001b[1m0s\u001b[0m 1ms/step \n"
     ]
    }
   ],
   "source": [
    "extract = keras.Model(CNN_model.inputs, CNN_model.layers[3].output)\n",
    "features = extract.predict([inputDataBcast,-1*XVal])"
   ]
  },
  {
   "cell_type": "code",
   "execution_count": 63,
   "id": "bc4348f6",
   "metadata": {},
   "outputs": [
    {
     "name": "stdout",
     "output_type": "stream",
     "text": [
      "False\n",
      "[[[3229]]]\n",
      "[[[248.38461538]]]\n",
      "[1.3887944e-11]\n"
     ]
    }
   ],
   "source": [
    "idx = 6\n",
    "print(np.any(features[idx]==0))\n",
    "print(XVal[idx])\n",
    "print(XVal[idx]/13)\n",
    "print(p[idx])"
   ]
  },
  {
   "cell_type": "code",
   "execution_count": 64,
   "id": "f3f0310b",
   "metadata": {},
   "outputs": [
    {
     "name": "stdout",
     "output_type": "stream",
     "text": [
      "[[-3229. -3216. -3203. -3190. -3177. -3164. -3151. -3138. -3125. -3112.\n",
      "  -3099. -3086. -3073. -3060. -3047. -3034.]\n",
      " [-3021. -3008. -2995. -2982. -2969. -2956. -2943. -2930. -2917. -2904.\n",
      "  -2891. -2878. -2865. -2852. -2839. -2826.]\n",
      " [-2813. -2800. -2787. -2774. -2761. -2748. -2735. -2722. -2709. -2696.\n",
      "  -2683. -2670. -2657. -2644. -2631. -2618.]\n",
      " [-2605. -2592. -2579. -2566. -2553. -2540. -2527. -2514. -2501. -2488.\n",
      "  -2475. -2462. -2449. -2436. -2423. -2410.]\n",
      " [-2397. -2384. -2371. -2358. -2345. -2332. -2319. -2306. -2293. -2280.\n",
      "  -2267. -2254. -2241. -2228. -2215. -2202.]\n",
      " [-2189. -2176. -2163. -2150. -2137. -2124. -2111. -2098. -2085. -2072.\n",
      "  -2059. -2046. -2033. -2020. -2007. -1994.]\n",
      " [-1981. -1968. -1955. -1942. -1929. -1916. -1903. -1890. -1877. -1864.\n",
      "  -1851. -1838. -1825. -1812. -1799. -1786.]\n",
      " [-1773. -1760. -1747. -1734. -1721. -1708. -1695. -1682. -1669. -1656.\n",
      "  -1643. -1630. -1617. -1604. -1591. -1578.]\n",
      " [-1565. -1552. -1539. -1526. -1513. -1500. -1487. -1474. -1461. -1448.\n",
      "  -1435. -1422. -1409. -1396. -1383. -1370.]\n",
      " [-1357. -1344. -1331. -1318. -1305. -1292. -1279. -1266. -1253. -1240.\n",
      "  -1227. -1214. -1201. -1188. -1175. -1162.]\n",
      " [-1149. -1136. -1123. -1110. -1097. -1084. -1071. -1058. -1045. -1032.\n",
      "  -1019. -1006.  -993.  -980.  -967.  -954.]\n",
      " [ -941.  -928.  -915.  -902.  -889.  -876.  -863.  -850.  -837.  -824.\n",
      "   -811.  -798.  -785.  -772.  -759.  -746.]\n",
      " [ -733.  -720.  -707.  -694.  -681.  -668.  -655.  -642.  -629.  -616.\n",
      "   -603.  -590.  -577.  -564.  -551.  -538.]\n",
      " [ -525.  -512.  -499.  -486.  -473.  -460.  -447.  -434.  -421.  -408.\n",
      "   -395.  -382.  -369.  -356.  -343.  -330.]\n",
      " [ -317.  -304.  -291.  -278.  -265.  -252.  -239.  -226.  -213.  -200.\n",
      "   -187.  -174.  -161.  -148.  -135.  -122.]\n",
      " [ -109.   -96.   -83.   -70.   -57.   -44.   -31.   -18.    -5.     8.\n",
      "     21.    34.    47.    60.    73.    86.]]\n"
     ]
    }
   ],
   "source": [
    "print(np.squeeze( features[idx]) )"
   ]
  },
  {
   "cell_type": "code",
   "execution_count": null,
   "id": "0626fd39",
   "metadata": {},
   "outputs": [],
   "source": []
  }
 ],
 "metadata": {
  "kernelspec": {
   "display_name": "venv",
   "language": "python",
   "name": "python3"
  },
  "language_info": {
   "codemirror_mode": {
    "name": "ipython",
    "version": 3
   },
   "file_extension": ".py",
   "mimetype": "text/x-python",
   "name": "python",
   "nbconvert_exporter": "python",
   "pygments_lexer": "ipython3",
   "version": "3.11.9"
  }
 },
 "nbformat": 4,
 "nbformat_minor": 5
}
